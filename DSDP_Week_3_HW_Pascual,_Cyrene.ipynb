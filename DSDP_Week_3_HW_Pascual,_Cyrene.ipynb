{
  "nbformat": 4,
  "nbformat_minor": 0,
  "metadata": {
    "colab": {
      "provenance": []
    },
    "kernelspec": {
      "name": "python3",
      "display_name": "Python 3"
    },
    "language_info": {
      "name": "python"
    }
  },
  "cells": [
    {
      "cell_type": "code",
      "source": [
        "from google.colab import drive\n",
        "drive.mount ('/content/drive')"
      ],
      "metadata": {
        "colab": {
          "base_uri": "https://localhost:8080/"
        },
        "id": "lDY1VARsmGQR",
        "outputId": "3aad61a8-f668-4570-8e0a-e114f67310db"
      },
      "execution_count": 1,
      "outputs": [
        {
          "output_type": "stream",
          "name": "stdout",
          "text": [
            "Mounted at /content/drive\n"
          ]
        }
      ]
    },
    {
      "cell_type": "code",
      "source": [
        "filepath =  '/content/drive/My Drive/Colab Notebooks/Datasets/DSDP - creditsetcategorical.csv'"
      ],
      "metadata": {
        "id": "ZVEvnbRRJoAe"
      },
      "execution_count": 3,
      "outputs": []
    },
    {
      "cell_type": "code",
      "source": [
        "import pandas as pd\n",
        "import numpy as np\n",
        "from sklearn.model_selection import train_test_split, cross_val_score\n",
        "from sklearn.metrics import accuracy_score, classification_report, confusion_matrix\n",
        "from sklearn.tree import DecisionTreeClassifier\n",
        "from sklearn.ensemble import AdaBoostClassifier, RandomForestClassifier\n",
        "from sklearn.svm import SVC\n",
        "from sklearn.naive_bayes import GaussianNB\n",
        "from keras.models import Sequential\n",
        "from keras.layers import Dense"
      ],
      "metadata": {
        "id": "fJ6BySmfPeP1"
      },
      "execution_count": 16,
      "outputs": []
    },
    {
      "cell_type": "code",
      "source": [
        "data = pd.read_csv(filepath, sep=',')"
      ],
      "metadata": {
        "id": "QBr_7hNaPo5U"
      },
      "execution_count": 5,
      "outputs": []
    },
    {
      "cell_type": "code",
      "source": [
        "data.head(50)"
      ],
      "metadata": {
        "colab": {
          "base_uri": "https://localhost:8080/",
          "height": 1000
        },
        "id": "EFDHYeNrQl7j",
        "outputId": "b49a5dbe-97ed-436a-b5ad-780eef8aca5c"
      },
      "execution_count": 6,
      "outputs": [
        {
          "output_type": "execute_result",
          "data": {
            "text/plain": [
              "         income        age          loan       LTI default10yr\n",
              "0   66155.92510  59.017015   8106.532131  0.122537          No\n",
              "1   34415.15397  48.117153   6564.745018  0.190752          No\n",
              "2   57317.17006  63.108049   8020.953296  0.139940          No\n",
              "3   42709.53420  45.751972   6103.642260  0.142911          No\n",
              "4   66952.68885  18.584336   8770.099235  0.130990         Yes\n",
              "5   24904.06414  57.471607     15.498598  0.000622          No\n",
              "6   48430.35961  26.809132   5722.581981  0.118161          No\n",
              "7   24500.14198  32.897548   2971.003310  0.121265         Yes\n",
              "8   40654.89254  55.496853   4755.825280  0.116980          No\n",
              "9   25075.87277  39.776378   1409.230371  0.056199          No\n",
              "10  64131.41537  25.679575   4351.028971  0.067846          No\n",
              "11  59436.84712  60.471936   9254.244538  0.155699          No\n",
              "12  61050.34608  26.355044   5893.264659  0.096531          No\n",
              "13  27267.99546  61.576776   4759.787581  0.174556          No\n",
              "14  63061.96017  39.201553   1850.369377  0.029342          No\n",
              "15  50501.72669  28.218361   3977.287432  0.078755          No\n",
              "16  43548.65471  39.574530   3935.544453  0.090371          No\n",
              "17  43378.17519  60.848318   3277.737553  0.075562          No\n",
              "18  20542.36507  61.690571   3157.442290  0.153704          No\n",
              "19  58887.35755  26.076093   4965.516066  0.084322          No\n",
              "20  23000.78400  31.761354   1148.118057  0.049916          No\n",
              "21  32197.62070  52.423280   4244.057136  0.131813          No\n",
              "22  23329.31941  48.576975    222.622299  0.009543          No\n",
              "23  27845.80089  51.970624   4959.921226  0.178121          No\n",
              "24  65301.98403  48.840922   5465.267886  0.083692          No\n",
              "25  47451.63012  27.031741   5361.282716  0.112984          No\n",
              "26  63287.03891  36.496976   9595.286289  0.151615          No\n",
              "27  45727.45987  55.839922   6376.822949  0.139453          No\n",
              "28  59417.80541  30.858268   2082.625938  0.035051          No\n",
              "29  58842.89131  54.510948  10871.186790  0.184749          No\n",
              "30  48528.85280  43.783809   6155.784670  0.126848          No\n",
              "31  23526.30256  52.671012   2862.010139  0.121652          No\n",
              "32  67252.90061  38.131907   4221.303157  0.062768          No\n",
              "33  58886.85129  38.661504   7271.552032  0.123483          No\n",
              "34  57584.97379  36.672021   1728.423755  0.030015          No\n",
              "35  26289.97231  20.666779    341.146966  0.012976          No\n",
              "36  25952.38147  58.185017   2109.200772  0.081272          No\n",
              "37  32464.09188  50.225006   4326.705073  0.133277          No\n",
              "38  60921.06310  18.840526    968.836383  0.015903          No\n",
              "39  26578.53669  32.676044   3489.843136  0.131303         Yes\n",
              "40  66260.12156  32.896693   7035.589107  0.106181          No\n",
              "41  58787.45524  62.641303   4167.786724  0.070896          No\n",
              "42  62545.70871  49.040433   4362.905812  0.069755          No\n",
              "43  24381.95345  25.252331   4227.018986  0.173367         Yes\n",
              "44  67852.10587  47.321899   5730.588251  0.084457          No\n",
              "45  41725.61286  18.130038   1185.214700  0.028405          No\n",
              "46  41896.97160  47.250731   4892.209734  0.116768          No\n",
              "47  44379.72965  50.088671   1814.335082  0.040882          No\n",
              "48  28416.89938  57.928719   1788.973736  0.062955          No\n",
              "49  68427.16311  46.308240   1658.070233  0.024231          No"
            ],
            "text/html": [
              "\n",
              "  <div id=\"df-1f448d31-dde6-4b45-ba8c-f2898233df8e\">\n",
              "    <div class=\"colab-df-container\">\n",
              "      <div>\n",
              "<style scoped>\n",
              "    .dataframe tbody tr th:only-of-type {\n",
              "        vertical-align: middle;\n",
              "    }\n",
              "\n",
              "    .dataframe tbody tr th {\n",
              "        vertical-align: top;\n",
              "    }\n",
              "\n",
              "    .dataframe thead th {\n",
              "        text-align: right;\n",
              "    }\n",
              "</style>\n",
              "<table border=\"1\" class=\"dataframe\">\n",
              "  <thead>\n",
              "    <tr style=\"text-align: right;\">\n",
              "      <th></th>\n",
              "      <th>income</th>\n",
              "      <th>age</th>\n",
              "      <th>loan</th>\n",
              "      <th>LTI</th>\n",
              "      <th>default10yr</th>\n",
              "    </tr>\n",
              "  </thead>\n",
              "  <tbody>\n",
              "    <tr>\n",
              "      <th>0</th>\n",
              "      <td>66155.92510</td>\n",
              "      <td>59.017015</td>\n",
              "      <td>8106.532131</td>\n",
              "      <td>0.122537</td>\n",
              "      <td>No</td>\n",
              "    </tr>\n",
              "    <tr>\n",
              "      <th>1</th>\n",
              "      <td>34415.15397</td>\n",
              "      <td>48.117153</td>\n",
              "      <td>6564.745018</td>\n",
              "      <td>0.190752</td>\n",
              "      <td>No</td>\n",
              "    </tr>\n",
              "    <tr>\n",
              "      <th>2</th>\n",
              "      <td>57317.17006</td>\n",
              "      <td>63.108049</td>\n",
              "      <td>8020.953296</td>\n",
              "      <td>0.139940</td>\n",
              "      <td>No</td>\n",
              "    </tr>\n",
              "    <tr>\n",
              "      <th>3</th>\n",
              "      <td>42709.53420</td>\n",
              "      <td>45.751972</td>\n",
              "      <td>6103.642260</td>\n",
              "      <td>0.142911</td>\n",
              "      <td>No</td>\n",
              "    </tr>\n",
              "    <tr>\n",
              "      <th>4</th>\n",
              "      <td>66952.68885</td>\n",
              "      <td>18.584336</td>\n",
              "      <td>8770.099235</td>\n",
              "      <td>0.130990</td>\n",
              "      <td>Yes</td>\n",
              "    </tr>\n",
              "    <tr>\n",
              "      <th>5</th>\n",
              "      <td>24904.06414</td>\n",
              "      <td>57.471607</td>\n",
              "      <td>15.498598</td>\n",
              "      <td>0.000622</td>\n",
              "      <td>No</td>\n",
              "    </tr>\n",
              "    <tr>\n",
              "      <th>6</th>\n",
              "      <td>48430.35961</td>\n",
              "      <td>26.809132</td>\n",
              "      <td>5722.581981</td>\n",
              "      <td>0.118161</td>\n",
              "      <td>No</td>\n",
              "    </tr>\n",
              "    <tr>\n",
              "      <th>7</th>\n",
              "      <td>24500.14198</td>\n",
              "      <td>32.897548</td>\n",
              "      <td>2971.003310</td>\n",
              "      <td>0.121265</td>\n",
              "      <td>Yes</td>\n",
              "    </tr>\n",
              "    <tr>\n",
              "      <th>8</th>\n",
              "      <td>40654.89254</td>\n",
              "      <td>55.496853</td>\n",
              "      <td>4755.825280</td>\n",
              "      <td>0.116980</td>\n",
              "      <td>No</td>\n",
              "    </tr>\n",
              "    <tr>\n",
              "      <th>9</th>\n",
              "      <td>25075.87277</td>\n",
              "      <td>39.776378</td>\n",
              "      <td>1409.230371</td>\n",
              "      <td>0.056199</td>\n",
              "      <td>No</td>\n",
              "    </tr>\n",
              "    <tr>\n",
              "      <th>10</th>\n",
              "      <td>64131.41537</td>\n",
              "      <td>25.679575</td>\n",
              "      <td>4351.028971</td>\n",
              "      <td>0.067846</td>\n",
              "      <td>No</td>\n",
              "    </tr>\n",
              "    <tr>\n",
              "      <th>11</th>\n",
              "      <td>59436.84712</td>\n",
              "      <td>60.471936</td>\n",
              "      <td>9254.244538</td>\n",
              "      <td>0.155699</td>\n",
              "      <td>No</td>\n",
              "    </tr>\n",
              "    <tr>\n",
              "      <th>12</th>\n",
              "      <td>61050.34608</td>\n",
              "      <td>26.355044</td>\n",
              "      <td>5893.264659</td>\n",
              "      <td>0.096531</td>\n",
              "      <td>No</td>\n",
              "    </tr>\n",
              "    <tr>\n",
              "      <th>13</th>\n",
              "      <td>27267.99546</td>\n",
              "      <td>61.576776</td>\n",
              "      <td>4759.787581</td>\n",
              "      <td>0.174556</td>\n",
              "      <td>No</td>\n",
              "    </tr>\n",
              "    <tr>\n",
              "      <th>14</th>\n",
              "      <td>63061.96017</td>\n",
              "      <td>39.201553</td>\n",
              "      <td>1850.369377</td>\n",
              "      <td>0.029342</td>\n",
              "      <td>No</td>\n",
              "    </tr>\n",
              "    <tr>\n",
              "      <th>15</th>\n",
              "      <td>50501.72669</td>\n",
              "      <td>28.218361</td>\n",
              "      <td>3977.287432</td>\n",
              "      <td>0.078755</td>\n",
              "      <td>No</td>\n",
              "    </tr>\n",
              "    <tr>\n",
              "      <th>16</th>\n",
              "      <td>43548.65471</td>\n",
              "      <td>39.574530</td>\n",
              "      <td>3935.544453</td>\n",
              "      <td>0.090371</td>\n",
              "      <td>No</td>\n",
              "    </tr>\n",
              "    <tr>\n",
              "      <th>17</th>\n",
              "      <td>43378.17519</td>\n",
              "      <td>60.848318</td>\n",
              "      <td>3277.737553</td>\n",
              "      <td>0.075562</td>\n",
              "      <td>No</td>\n",
              "    </tr>\n",
              "    <tr>\n",
              "      <th>18</th>\n",
              "      <td>20542.36507</td>\n",
              "      <td>61.690571</td>\n",
              "      <td>3157.442290</td>\n",
              "      <td>0.153704</td>\n",
              "      <td>No</td>\n",
              "    </tr>\n",
              "    <tr>\n",
              "      <th>19</th>\n",
              "      <td>58887.35755</td>\n",
              "      <td>26.076093</td>\n",
              "      <td>4965.516066</td>\n",
              "      <td>0.084322</td>\n",
              "      <td>No</td>\n",
              "    </tr>\n",
              "    <tr>\n",
              "      <th>20</th>\n",
              "      <td>23000.78400</td>\n",
              "      <td>31.761354</td>\n",
              "      <td>1148.118057</td>\n",
              "      <td>0.049916</td>\n",
              "      <td>No</td>\n",
              "    </tr>\n",
              "    <tr>\n",
              "      <th>21</th>\n",
              "      <td>32197.62070</td>\n",
              "      <td>52.423280</td>\n",
              "      <td>4244.057136</td>\n",
              "      <td>0.131813</td>\n",
              "      <td>No</td>\n",
              "    </tr>\n",
              "    <tr>\n",
              "      <th>22</th>\n",
              "      <td>23329.31941</td>\n",
              "      <td>48.576975</td>\n",
              "      <td>222.622299</td>\n",
              "      <td>0.009543</td>\n",
              "      <td>No</td>\n",
              "    </tr>\n",
              "    <tr>\n",
              "      <th>23</th>\n",
              "      <td>27845.80089</td>\n",
              "      <td>51.970624</td>\n",
              "      <td>4959.921226</td>\n",
              "      <td>0.178121</td>\n",
              "      <td>No</td>\n",
              "    </tr>\n",
              "    <tr>\n",
              "      <th>24</th>\n",
              "      <td>65301.98403</td>\n",
              "      <td>48.840922</td>\n",
              "      <td>5465.267886</td>\n",
              "      <td>0.083692</td>\n",
              "      <td>No</td>\n",
              "    </tr>\n",
              "    <tr>\n",
              "      <th>25</th>\n",
              "      <td>47451.63012</td>\n",
              "      <td>27.031741</td>\n",
              "      <td>5361.282716</td>\n",
              "      <td>0.112984</td>\n",
              "      <td>No</td>\n",
              "    </tr>\n",
              "    <tr>\n",
              "      <th>26</th>\n",
              "      <td>63287.03891</td>\n",
              "      <td>36.496976</td>\n",
              "      <td>9595.286289</td>\n",
              "      <td>0.151615</td>\n",
              "      <td>No</td>\n",
              "    </tr>\n",
              "    <tr>\n",
              "      <th>27</th>\n",
              "      <td>45727.45987</td>\n",
              "      <td>55.839922</td>\n",
              "      <td>6376.822949</td>\n",
              "      <td>0.139453</td>\n",
              "      <td>No</td>\n",
              "    </tr>\n",
              "    <tr>\n",
              "      <th>28</th>\n",
              "      <td>59417.80541</td>\n",
              "      <td>30.858268</td>\n",
              "      <td>2082.625938</td>\n",
              "      <td>0.035051</td>\n",
              "      <td>No</td>\n",
              "    </tr>\n",
              "    <tr>\n",
              "      <th>29</th>\n",
              "      <td>58842.89131</td>\n",
              "      <td>54.510948</td>\n",
              "      <td>10871.186790</td>\n",
              "      <td>0.184749</td>\n",
              "      <td>No</td>\n",
              "    </tr>\n",
              "    <tr>\n",
              "      <th>30</th>\n",
              "      <td>48528.85280</td>\n",
              "      <td>43.783809</td>\n",
              "      <td>6155.784670</td>\n",
              "      <td>0.126848</td>\n",
              "      <td>No</td>\n",
              "    </tr>\n",
              "    <tr>\n",
              "      <th>31</th>\n",
              "      <td>23526.30256</td>\n",
              "      <td>52.671012</td>\n",
              "      <td>2862.010139</td>\n",
              "      <td>0.121652</td>\n",
              "      <td>No</td>\n",
              "    </tr>\n",
              "    <tr>\n",
              "      <th>32</th>\n",
              "      <td>67252.90061</td>\n",
              "      <td>38.131907</td>\n",
              "      <td>4221.303157</td>\n",
              "      <td>0.062768</td>\n",
              "      <td>No</td>\n",
              "    </tr>\n",
              "    <tr>\n",
              "      <th>33</th>\n",
              "      <td>58886.85129</td>\n",
              "      <td>38.661504</td>\n",
              "      <td>7271.552032</td>\n",
              "      <td>0.123483</td>\n",
              "      <td>No</td>\n",
              "    </tr>\n",
              "    <tr>\n",
              "      <th>34</th>\n",
              "      <td>57584.97379</td>\n",
              "      <td>36.672021</td>\n",
              "      <td>1728.423755</td>\n",
              "      <td>0.030015</td>\n",
              "      <td>No</td>\n",
              "    </tr>\n",
              "    <tr>\n",
              "      <th>35</th>\n",
              "      <td>26289.97231</td>\n",
              "      <td>20.666779</td>\n",
              "      <td>341.146966</td>\n",
              "      <td>0.012976</td>\n",
              "      <td>No</td>\n",
              "    </tr>\n",
              "    <tr>\n",
              "      <th>36</th>\n",
              "      <td>25952.38147</td>\n",
              "      <td>58.185017</td>\n",
              "      <td>2109.200772</td>\n",
              "      <td>0.081272</td>\n",
              "      <td>No</td>\n",
              "    </tr>\n",
              "    <tr>\n",
              "      <th>37</th>\n",
              "      <td>32464.09188</td>\n",
              "      <td>50.225006</td>\n",
              "      <td>4326.705073</td>\n",
              "      <td>0.133277</td>\n",
              "      <td>No</td>\n",
              "    </tr>\n",
              "    <tr>\n",
              "      <th>38</th>\n",
              "      <td>60921.06310</td>\n",
              "      <td>18.840526</td>\n",
              "      <td>968.836383</td>\n",
              "      <td>0.015903</td>\n",
              "      <td>No</td>\n",
              "    </tr>\n",
              "    <tr>\n",
              "      <th>39</th>\n",
              "      <td>26578.53669</td>\n",
              "      <td>32.676044</td>\n",
              "      <td>3489.843136</td>\n",
              "      <td>0.131303</td>\n",
              "      <td>Yes</td>\n",
              "    </tr>\n",
              "    <tr>\n",
              "      <th>40</th>\n",
              "      <td>66260.12156</td>\n",
              "      <td>32.896693</td>\n",
              "      <td>7035.589107</td>\n",
              "      <td>0.106181</td>\n",
              "      <td>No</td>\n",
              "    </tr>\n",
              "    <tr>\n",
              "      <th>41</th>\n",
              "      <td>58787.45524</td>\n",
              "      <td>62.641303</td>\n",
              "      <td>4167.786724</td>\n",
              "      <td>0.070896</td>\n",
              "      <td>No</td>\n",
              "    </tr>\n",
              "    <tr>\n",
              "      <th>42</th>\n",
              "      <td>62545.70871</td>\n",
              "      <td>49.040433</td>\n",
              "      <td>4362.905812</td>\n",
              "      <td>0.069755</td>\n",
              "      <td>No</td>\n",
              "    </tr>\n",
              "    <tr>\n",
              "      <th>43</th>\n",
              "      <td>24381.95345</td>\n",
              "      <td>25.252331</td>\n",
              "      <td>4227.018986</td>\n",
              "      <td>0.173367</td>\n",
              "      <td>Yes</td>\n",
              "    </tr>\n",
              "    <tr>\n",
              "      <th>44</th>\n",
              "      <td>67852.10587</td>\n",
              "      <td>47.321899</td>\n",
              "      <td>5730.588251</td>\n",
              "      <td>0.084457</td>\n",
              "      <td>No</td>\n",
              "    </tr>\n",
              "    <tr>\n",
              "      <th>45</th>\n",
              "      <td>41725.61286</td>\n",
              "      <td>18.130038</td>\n",
              "      <td>1185.214700</td>\n",
              "      <td>0.028405</td>\n",
              "      <td>No</td>\n",
              "    </tr>\n",
              "    <tr>\n",
              "      <th>46</th>\n",
              "      <td>41896.97160</td>\n",
              "      <td>47.250731</td>\n",
              "      <td>4892.209734</td>\n",
              "      <td>0.116768</td>\n",
              "      <td>No</td>\n",
              "    </tr>\n",
              "    <tr>\n",
              "      <th>47</th>\n",
              "      <td>44379.72965</td>\n",
              "      <td>50.088671</td>\n",
              "      <td>1814.335082</td>\n",
              "      <td>0.040882</td>\n",
              "      <td>No</td>\n",
              "    </tr>\n",
              "    <tr>\n",
              "      <th>48</th>\n",
              "      <td>28416.89938</td>\n",
              "      <td>57.928719</td>\n",
              "      <td>1788.973736</td>\n",
              "      <td>0.062955</td>\n",
              "      <td>No</td>\n",
              "    </tr>\n",
              "    <tr>\n",
              "      <th>49</th>\n",
              "      <td>68427.16311</td>\n",
              "      <td>46.308240</td>\n",
              "      <td>1658.070233</td>\n",
              "      <td>0.024231</td>\n",
              "      <td>No</td>\n",
              "    </tr>\n",
              "  </tbody>\n",
              "</table>\n",
              "</div>\n",
              "      <button class=\"colab-df-convert\" onclick=\"convertToInteractive('df-1f448d31-dde6-4b45-ba8c-f2898233df8e')\"\n",
              "              title=\"Convert this dataframe to an interactive table.\"\n",
              "              style=\"display:none;\">\n",
              "        \n",
              "  <svg xmlns=\"http://www.w3.org/2000/svg\" height=\"24px\"viewBox=\"0 0 24 24\"\n",
              "       width=\"24px\">\n",
              "    <path d=\"M0 0h24v24H0V0z\" fill=\"none\"/>\n",
              "    <path d=\"M18.56 5.44l.94 2.06.94-2.06 2.06-.94-2.06-.94-.94-2.06-.94 2.06-2.06.94zm-11 1L8.5 8.5l.94-2.06 2.06-.94-2.06-.94L8.5 2.5l-.94 2.06-2.06.94zm10 10l.94 2.06.94-2.06 2.06-.94-2.06-.94-.94-2.06-.94 2.06-2.06.94z\"/><path d=\"M17.41 7.96l-1.37-1.37c-.4-.4-.92-.59-1.43-.59-.52 0-1.04.2-1.43.59L10.3 9.45l-7.72 7.72c-.78.78-.78 2.05 0 2.83L4 21.41c.39.39.9.59 1.41.59.51 0 1.02-.2 1.41-.59l7.78-7.78 2.81-2.81c.8-.78.8-2.07 0-2.86zM5.41 20L4 18.59l7.72-7.72 1.47 1.35L5.41 20z\"/>\n",
              "  </svg>\n",
              "      </button>\n",
              "      \n",
              "  <style>\n",
              "    .colab-df-container {\n",
              "      display:flex;\n",
              "      flex-wrap:wrap;\n",
              "      gap: 12px;\n",
              "    }\n",
              "\n",
              "    .colab-df-convert {\n",
              "      background-color: #E8F0FE;\n",
              "      border: none;\n",
              "      border-radius: 50%;\n",
              "      cursor: pointer;\n",
              "      display: none;\n",
              "      fill: #1967D2;\n",
              "      height: 32px;\n",
              "      padding: 0 0 0 0;\n",
              "      width: 32px;\n",
              "    }\n",
              "\n",
              "    .colab-df-convert:hover {\n",
              "      background-color: #E2EBFA;\n",
              "      box-shadow: 0px 1px 2px rgba(60, 64, 67, 0.3), 0px 1px 3px 1px rgba(60, 64, 67, 0.15);\n",
              "      fill: #174EA6;\n",
              "    }\n",
              "\n",
              "    [theme=dark] .colab-df-convert {\n",
              "      background-color: #3B4455;\n",
              "      fill: #D2E3FC;\n",
              "    }\n",
              "\n",
              "    [theme=dark] .colab-df-convert:hover {\n",
              "      background-color: #434B5C;\n",
              "      box-shadow: 0px 1px 3px 1px rgba(0, 0, 0, 0.15);\n",
              "      filter: drop-shadow(0px 1px 2px rgba(0, 0, 0, 0.3));\n",
              "      fill: #FFFFFF;\n",
              "    }\n",
              "  </style>\n",
              "\n",
              "      <script>\n",
              "        const buttonEl =\n",
              "          document.querySelector('#df-1f448d31-dde6-4b45-ba8c-f2898233df8e button.colab-df-convert');\n",
              "        buttonEl.style.display =\n",
              "          google.colab.kernel.accessAllowed ? 'block' : 'none';\n",
              "\n",
              "        async function convertToInteractive(key) {\n",
              "          const element = document.querySelector('#df-1f448d31-dde6-4b45-ba8c-f2898233df8e');\n",
              "          const dataTable =\n",
              "            await google.colab.kernel.invokeFunction('convertToInteractive',\n",
              "                                                     [key], {});\n",
              "          if (!dataTable) return;\n",
              "\n",
              "          const docLinkHtml = 'Like what you see? Visit the ' +\n",
              "            '<a target=\"_blank\" href=https://colab.research.google.com/notebooks/data_table.ipynb>data table notebook</a>'\n",
              "            + ' to learn more about interactive tables.';\n",
              "          element.innerHTML = '';\n",
              "          dataTable['output_type'] = 'display_data';\n",
              "          await google.colab.output.renderOutput(dataTable, element);\n",
              "          const docLink = document.createElement('div');\n",
              "          docLink.innerHTML = docLinkHtml;\n",
              "          element.appendChild(docLink);\n",
              "        }\n",
              "      </script>\n",
              "    </div>\n",
              "  </div>\n",
              "  "
            ]
          },
          "metadata": {},
          "execution_count": 6
        }
      ]
    },
    {
      "cell_type": "code",
      "source": [
        "data.dtypes"
      ],
      "metadata": {
        "colab": {
          "base_uri": "https://localhost:8080/"
        },
        "id": "ZjC1lrPQm7a7",
        "outputId": "3fd9d5b4-706c-44da-e937-c7cfa21c9a5a"
      },
      "execution_count": 7,
      "outputs": [
        {
          "output_type": "execute_result",
          "data": {
            "text/plain": [
              "income         float64\n",
              "age            float64\n",
              "loan           float64\n",
              "LTI            float64\n",
              "default10yr     object\n",
              "dtype: object"
            ]
          },
          "metadata": {},
          "execution_count": 7
        }
      ]
    },
    {
      "cell_type": "code",
      "source": [
        "data.shape"
      ],
      "metadata": {
        "colab": {
          "base_uri": "https://localhost:8080/"
        },
        "id": "ont4a5gonCPS",
        "outputId": "fdd962e5-17c5-43a6-b754-8ce39f78674b"
      },
      "execution_count": 8,
      "outputs": [
        {
          "output_type": "execute_result",
          "data": {
            "text/plain": [
              "(2000, 5)"
            ]
          },
          "metadata": {},
          "execution_count": 8
        }
      ]
    },
    {
      "cell_type": "code",
      "source": [
        "data.isnull().values.any()"
      ],
      "metadata": {
        "colab": {
          "base_uri": "https://localhost:8080/"
        },
        "id": "TTDy1NCHnJ-e",
        "outputId": "5ad6250c-b126-4b74-ad82-569ec4530061"
      },
      "execution_count": 9,
      "outputs": [
        {
          "output_type": "execute_result",
          "data": {
            "text/plain": [
              "False"
            ]
          },
          "metadata": {},
          "execution_count": 9
        }
      ]
    },
    {
      "cell_type": "code",
      "source": [
        "data.isnull().sum()"
      ],
      "metadata": {
        "colab": {
          "base_uri": "https://localhost:8080/"
        },
        "id": "4i3vY3einoZQ",
        "outputId": "041ed90e-faf3-4191-fac9-87c97e9f8bc4"
      },
      "execution_count": 10,
      "outputs": [
        {
          "output_type": "execute_result",
          "data": {
            "text/plain": [
              "income         0\n",
              "age            0\n",
              "loan           0\n",
              "LTI            0\n",
              "default10yr    0\n",
              "dtype: int64"
            ]
          },
          "metadata": {},
          "execution_count": 10
        }
      ]
    },
    {
      "cell_type": "code",
      "source": [
        "# convert 'default10yr' to binary\n",
        "data['default10yr'] = data['default10yr'].apply(lambda x: 1 if x == 'Yes' else 0)"
      ],
      "metadata": {
        "id": "mTWVH_KpnfAE"
      },
      "execution_count": 12,
      "outputs": []
    },
    {
      "cell_type": "code",
      "source": [
        "X = data.drop('default10yr', axis=1)\n",
        "y = data['default10yr']"
      ],
      "metadata": {
        "id": "VOlCs_3lnjUI"
      },
      "execution_count": 13,
      "outputs": []
    },
    {
      "cell_type": "code",
      "source": [
        "X_train, X_val, y_train, y_val = train_test_split(X, y, test_size=0.2, random_state=42)"
      ],
      "metadata": {
        "id": "ahj_x2EhnpSf"
      },
      "execution_count": 14,
      "outputs": []
    },
    {
      "cell_type": "code",
      "source": [
        "models = {\n",
        "    \"Decision Tree\": DecisionTreeClassifier(),\n",
        "    \"AdaBoost\": AdaBoostClassifier(),\n",
        "    \"Random Forest\": RandomForestClassifier(),\n",
        "    \"SVM\": SVC(),\n",
        "    \"Naive Bayes\": GaussianNB()\n",
        "}"
      ],
      "metadata": {
        "id": "TVLnMZDRoHq8"
      },
      "execution_count": 15,
      "outputs": []
    },
    {
      "cell_type": "code",
      "source": [
        "results = {}\n",
        "for model in models:\n",
        "    models[model].fit(X_train, y_train)\n",
        "    y_pred = models[model].predict(X_val)\n",
        "    acc = accuracy_score(y_val, y_pred)\n",
        "    report = classification_report(y_val, y_pred)\n",
        "    matrix = confusion_matrix(y_val, y_pred)\n",
        "    cross_val_acc = cross_val_score(models[model], X, y, cv=10).mean()  # 10-fold cross validation\n",
        "    results[model] = {\"Accuracy\": acc, \"Cross Val Accuracy\": cross_val_acc, \"Report\": report, \"Matrix\": matrix}"
      ],
      "metadata": {
        "colab": {
          "base_uri": "https://localhost:8080/"
        },
        "id": "gDugyEW6oJWg",
        "outputId": "ec3a04e5-f984-449f-bcac-341f0d484cac"
      },
      "execution_count": 17,
      "outputs": [
        {
          "output_type": "stream",
          "name": "stderr",
          "text": [
            "/usr/local/lib/python3.10/dist-packages/sklearn/metrics/_classification.py:1344: UndefinedMetricWarning: Precision and F-score are ill-defined and being set to 0.0 in labels with no predicted samples. Use `zero_division` parameter to control this behavior.\n",
            "  _warn_prf(average, modifier, msg_start, len(result))\n",
            "/usr/local/lib/python3.10/dist-packages/sklearn/metrics/_classification.py:1344: UndefinedMetricWarning: Precision and F-score are ill-defined and being set to 0.0 in labels with no predicted samples. Use `zero_division` parameter to control this behavior.\n",
            "  _warn_prf(average, modifier, msg_start, len(result))\n",
            "/usr/local/lib/python3.10/dist-packages/sklearn/metrics/_classification.py:1344: UndefinedMetricWarning: Precision and F-score are ill-defined and being set to 0.0 in labels with no predicted samples. Use `zero_division` parameter to control this behavior.\n",
            "  _warn_prf(average, modifier, msg_start, len(result))\n"
          ]
        }
      ]
    },
    {
      "cell_type": "code",
      "source": [
        "# ANN model\n",
        "ann = Sequential()\n",
        "ann.add(Dense(16, activation='relu', input_shape=(X_train.shape[1],)))\n",
        "ann.add(Dense(16, activation='relu'))\n",
        "ann.add(Dense(1, activation='sigmoid'))\n",
        "ann.compile(loss='binary_crossentropy', optimizer='adam', metrics=['accuracy'])\n",
        "ann.fit(X_train, y_train, epochs=100, batch_size=10, verbose=0)\n",
        "y_pred = (ann.predict(X_val) > 0.5).astype(\"int32\")\n",
        "acc = accuracy_score(y_val, y_pred)\n",
        "report = classification_report(y_val, y_pred)\n",
        "matrix = confusion_matrix(y_val, y_pred)\n",
        "results[\"ANN\"] = {\"Accuracy\": acc, \"Cross Val Accuracy\": \"N/A\", \"Report\": report, \"Matrix\": matrix}"
      ],
      "metadata": {
        "colab": {
          "base_uri": "https://localhost:8080/"
        },
        "id": "mjIZ8ecFpYsb",
        "outputId": "c2303da1-de8d-40fe-a3f2-105ec254c55a"
      },
      "execution_count": 18,
      "outputs": [
        {
          "output_type": "stream",
          "name": "stdout",
          "text": [
            "13/13 [==============================] - 0s 2ms/step\n"
          ]
        },
        {
          "output_type": "stream",
          "name": "stderr",
          "text": [
            "/usr/local/lib/python3.10/dist-packages/sklearn/metrics/_classification.py:1344: UndefinedMetricWarning: Precision and F-score are ill-defined and being set to 0.0 in labels with no predicted samples. Use `zero_division` parameter to control this behavior.\n",
            "  _warn_prf(average, modifier, msg_start, len(result))\n",
            "/usr/local/lib/python3.10/dist-packages/sklearn/metrics/_classification.py:1344: UndefinedMetricWarning: Precision and F-score are ill-defined and being set to 0.0 in labels with no predicted samples. Use `zero_division` parameter to control this behavior.\n",
            "  _warn_prf(average, modifier, msg_start, len(result))\n",
            "/usr/local/lib/python3.10/dist-packages/sklearn/metrics/_classification.py:1344: UndefinedMetricWarning: Precision and F-score are ill-defined and being set to 0.0 in labels with no predicted samples. Use `zero_division` parameter to control this behavior.\n",
            "  _warn_prf(average, modifier, msg_start, len(result))\n"
          ]
        }
      ]
    },
    {
      "cell_type": "code",
      "source": [
        "# print results\n",
        "for model in results:\n",
        "    print(f\"{model}:\\nAccuracy: {results[model]['Accuracy']}\\nCross Val Accuracy: {results[model]['Cross Val Accuracy']}\\nReport:\\n{results[model]['Report']}\\nConfusion Matrix:\\n{results[model]['Matrix']}\\n\")"
      ],
      "metadata": {
        "colab": {
          "base_uri": "https://localhost:8080/"
        },
        "id": "edG1bhIgpjtq",
        "outputId": "651b9bd3-ba40-444a-e32b-5f531504adf6"
      },
      "execution_count": 19,
      "outputs": [
        {
          "output_type": "stream",
          "name": "stdout",
          "text": [
            "Decision Tree:\n",
            "Accuracy: 0.9975\n",
            "Cross Val Accuracy: 0.999\n",
            "Report:\n",
            "              precision    recall  f1-score   support\n",
            "\n",
            "           0       1.00      1.00      1.00       330\n",
            "           1       1.00      0.99      0.99        70\n",
            "\n",
            "    accuracy                           1.00       400\n",
            "   macro avg       1.00      0.99      1.00       400\n",
            "weighted avg       1.00      1.00      1.00       400\n",
            "\n",
            "Confusion Matrix:\n",
            "[[330   0]\n",
            " [  1  69]]\n",
            "\n",
            "AdaBoost:\n",
            "Accuracy: 0.9975\n",
            "Cross Val Accuracy: 0.999\n",
            "Report:\n",
            "              precision    recall  f1-score   support\n",
            "\n",
            "           0       1.00      1.00      1.00       330\n",
            "           1       1.00      0.99      0.99        70\n",
            "\n",
            "    accuracy                           1.00       400\n",
            "   macro avg       1.00      0.99      1.00       400\n",
            "weighted avg       1.00      1.00      1.00       400\n",
            "\n",
            "Confusion Matrix:\n",
            "[[330   0]\n",
            " [  1  69]]\n",
            "\n",
            "Random Forest:\n",
            "Accuracy: 0.9975\n",
            "Cross Val Accuracy: 0.999\n",
            "Report:\n",
            "              precision    recall  f1-score   support\n",
            "\n",
            "           0       1.00      1.00      1.00       330\n",
            "           1       1.00      0.99      0.99        70\n",
            "\n",
            "    accuracy                           1.00       400\n",
            "   macro avg       1.00      0.99      1.00       400\n",
            "weighted avg       1.00      1.00      1.00       400\n",
            "\n",
            "Confusion Matrix:\n",
            "[[330   0]\n",
            " [  1  69]]\n",
            "\n",
            "SVM:\n",
            "Accuracy: 0.825\n",
            "Cross Val Accuracy: 0.8585\n",
            "Report:\n",
            "              precision    recall  f1-score   support\n",
            "\n",
            "           0       0.82      1.00      0.90       330\n",
            "           1       0.00      0.00      0.00        70\n",
            "\n",
            "    accuracy                           0.82       400\n",
            "   macro avg       0.41      0.50      0.45       400\n",
            "weighted avg       0.68      0.82      0.75       400\n",
            "\n",
            "Confusion Matrix:\n",
            "[[330   0]\n",
            " [ 70   0]]\n",
            "\n",
            "Naive Bayes:\n",
            "Accuracy: 0.9125\n",
            "Cross Val Accuracy: 0.925\n",
            "Report:\n",
            "              precision    recall  f1-score   support\n",
            "\n",
            "           0       0.92      0.98      0.95       330\n",
            "           1       0.87      0.59      0.70        70\n",
            "\n",
            "    accuracy                           0.91       400\n",
            "   macro avg       0.90      0.78      0.82       400\n",
            "weighted avg       0.91      0.91      0.91       400\n",
            "\n",
            "Confusion Matrix:\n",
            "[[324   6]\n",
            " [ 29  41]]\n",
            "\n",
            "ANN:\n",
            "Accuracy: 0.825\n",
            "Cross Val Accuracy: N/A\n",
            "Report:\n",
            "              precision    recall  f1-score   support\n",
            "\n",
            "           0       0.82      1.00      0.90       330\n",
            "           1       0.00      0.00      0.00        70\n",
            "\n",
            "    accuracy                           0.82       400\n",
            "   macro avg       0.41      0.50      0.45       400\n",
            "weighted avg       0.68      0.82      0.75       400\n",
            "\n",
            "Confusion Matrix:\n",
            "[[330   0]\n",
            " [ 70   0]]\n",
            "\n"
          ]
        }
      ]
    },
    {
      "cell_type": "code",
      "source": [
        "# user input values\n",
        "#creditsetsample 1\n",
        "income = float(input(\"Enter yearly income: \"))\n",
        "age = float(input(\"Enter age: \"))\n",
        "loan = float(input(\"Enter loan amount: \"))\n",
        "lti = float(input(\"Enter loan to income ratio (LTI): \"))\n",
        "\n",
        "# make a prediction with each model\n",
        "user_data = np.array([[income, age, loan, lti]])\n",
        "\n",
        "prediction_dt = models['Decision Tree'].predict(user_data)\n",
        "prediction_ab = models['AdaBoost'].predict(user_data)\n",
        "prediction_rf = models['Random Forest'].predict(user_data)\n",
        "\n",
        "# print predictions\n",
        "print(\"Will the user default the loan within 10 years?\")\n",
        "print(f\"Decision Tree Prediction: {'Yes' if prediction_dt[0] else 'No'}\")\n",
        "print(f\"AdaBoost Prediction: {'Yes' if prediction_ab[0] else 'No'}\")\n",
        "print(f\"Random Forest Prediction: {'Yes' if prediction_rf[0] else 'No'}\")"
      ],
      "metadata": {
        "colab": {
          "base_uri": "https://localhost:8080/"
        },
        "id": "JPP4uoggp1XB",
        "outputId": "2ace3027-5858-42bf-c16c-413fd2403a46"
      },
      "execution_count": 20,
      "outputs": [
        {
          "output_type": "stream",
          "name": "stdout",
          "text": [
            "Enter yearly income: 42710\n",
            "Enter age: 46\n",
            "Enter loan amount: 6104\n",
            "Enter loan to income ratio (LTI): 0.143\n",
            "Will the user default the loan within 10 years?\n",
            "Decision Tree Prediction: No\n",
            "AdaBoost Prediction: No\n",
            "Random Forest Prediction: No\n"
          ]
        },
        {
          "output_type": "stream",
          "name": "stderr",
          "text": [
            "/usr/local/lib/python3.10/dist-packages/sklearn/base.py:439: UserWarning: X does not have valid feature names, but DecisionTreeClassifier was fitted with feature names\n",
            "  warnings.warn(\n",
            "/usr/local/lib/python3.10/dist-packages/sklearn/base.py:439: UserWarning: X does not have valid feature names, but AdaBoostClassifier was fitted with feature names\n",
            "  warnings.warn(\n",
            "/usr/local/lib/python3.10/dist-packages/sklearn/base.py:439: UserWarning: X does not have valid feature names, but RandomForestClassifier was fitted with feature names\n",
            "  warnings.warn(\n"
          ]
        }
      ]
    },
    {
      "cell_type": "code",
      "source": [
        "# user input values\n",
        "#creditsetsample 2\n",
        "income = float(input(\"Enter yearly income: \"))\n",
        "age = float(input(\"Enter age: \"))\n",
        "loan = float(input(\"Enter loan amount: \"))\n",
        "lti = float(input(\"Enter loan to income ratio (LTI): \"))\n",
        "\n",
        "# make a prediction with each model\n",
        "user_data = np.array([[income, age, loan, lti]])\n",
        "\n",
        "prediction_dt = models['Decision Tree'].predict(user_data)\n",
        "prediction_ab = models['AdaBoost'].predict(user_data)\n",
        "prediction_rf = models['Random Forest'].predict(user_data)\n",
        "\n",
        "# print predictions\n",
        "print(\"Will the user default the loan within 10 years?\")\n",
        "print(f\"Decision Tree Prediction: {'Yes' if prediction_dt[0] else 'No'}\")\n",
        "print(f\"AdaBoost Prediction: {'Yes' if prediction_ab[0] else 'No'}\")\n",
        "print(f\"Random Forest Prediction: {'Yes' if prediction_rf[0] else 'No'}\")"
      ],
      "metadata": {
        "colab": {
          "base_uri": "https://localhost:8080/"
        },
        "id": "78nCXIF4tA72",
        "outputId": "10f0cfbb-20b4-4efc-daa8-7b4b034d54cd"
      },
      "execution_count": 21,
      "outputs": [
        {
          "output_type": "stream",
          "name": "stdout",
          "text": [
            "Enter yearly income: 66953\n",
            "Enter age: 19\n",
            "Enter loan amount: 8770\n",
            "Enter loan to income ratio (LTI): 0.131\n",
            "Will the user default the loan within 10 years?\n",
            "Decision Tree Prediction: Yes\n",
            "AdaBoost Prediction: Yes\n",
            "Random Forest Prediction: Yes\n"
          ]
        },
        {
          "output_type": "stream",
          "name": "stderr",
          "text": [
            "/usr/local/lib/python3.10/dist-packages/sklearn/base.py:439: UserWarning: X does not have valid feature names, but DecisionTreeClassifier was fitted with feature names\n",
            "  warnings.warn(\n",
            "/usr/local/lib/python3.10/dist-packages/sklearn/base.py:439: UserWarning: X does not have valid feature names, but AdaBoostClassifier was fitted with feature names\n",
            "  warnings.warn(\n",
            "/usr/local/lib/python3.10/dist-packages/sklearn/base.py:439: UserWarning: X does not have valid feature names, but RandomForestClassifier was fitted with feature names\n",
            "  warnings.warn(\n"
          ]
        }
      ]
    },
    {
      "cell_type": "code",
      "source": [
        "# user input values\n",
        "#creditsetsample 3\n",
        "income = float(input(\"Enter yearly income: \"))\n",
        "age = float(input(\"Enter age: \"))\n",
        "loan = float(input(\"Enter loan amount: \"))\n",
        "lti = float(input(\"Enter loan to income ratio (LTI): \"))\n",
        "\n",
        "# make a prediction with each model\n",
        "user_data = np.array([[income, age, loan, lti]])\n",
        "\n",
        "prediction_dt = models['Decision Tree'].predict(user_data)\n",
        "prediction_ab = models['AdaBoost'].predict(user_data)\n",
        "prediction_rf = models['Random Forest'].predict(user_data)\n",
        "\n",
        "# print predictions\n",
        "print(\"Will the user default the loan within 10 years?\")\n",
        "print(f\"Decision Tree Prediction: {'Yes' if prediction_dt[0] else 'No'}\")\n",
        "print(f\"AdaBoost Prediction: {'Yes' if prediction_ab[0] else 'No'}\")\n",
        "print(f\"Random Forest Prediction: {'Yes' if prediction_rf[0] else 'No'}\")"
      ],
      "metadata": {
        "colab": {
          "base_uri": "https://localhost:8080/"
        },
        "id": "DNRlPFq4tPsV",
        "outputId": "d6c5782e-4e64-4f6d-a0ea-61dab7040655"
      },
      "execution_count": 22,
      "outputs": [
        {
          "output_type": "stream",
          "name": "stdout",
          "text": [
            "Enter yearly income: 24904\n",
            "Enter age: 57\n",
            "Enter loan amount: 15\n",
            "Enter loan to income ratio (LTI): 0.001\n",
            "Will the user default the loan within 10 years?\n",
            "Decision Tree Prediction: No\n",
            "AdaBoost Prediction: No\n",
            "Random Forest Prediction: No\n"
          ]
        },
        {
          "output_type": "stream",
          "name": "stderr",
          "text": [
            "/usr/local/lib/python3.10/dist-packages/sklearn/base.py:439: UserWarning: X does not have valid feature names, but DecisionTreeClassifier was fitted with feature names\n",
            "  warnings.warn(\n",
            "/usr/local/lib/python3.10/dist-packages/sklearn/base.py:439: UserWarning: X does not have valid feature names, but AdaBoostClassifier was fitted with feature names\n",
            "  warnings.warn(\n",
            "/usr/local/lib/python3.10/dist-packages/sklearn/base.py:439: UserWarning: X does not have valid feature names, but RandomForestClassifier was fitted with feature names\n",
            "  warnings.warn(\n"
          ]
        }
      ]
    },
    {
      "cell_type": "code",
      "source": [
        "# user input values\n",
        "#run this for other values :)\n",
        "income = float(input(\"Enter yearly income: \"))\n",
        "age = float(input(\"Enter age: \"))\n",
        "loan = float(input(\"Enter loan amount: \"))\n",
        "lti = float(input(\"Enter loan to income ratio (LTI): \"))\n",
        "\n",
        "# make a prediction with each model\n",
        "user_data = np.array([[income, age, loan, lti]])\n",
        "\n",
        "prediction_dt = models['Decision Tree'].predict(user_data)\n",
        "prediction_ab = models['AdaBoost'].predict(user_data)\n",
        "prediction_rf = models['Random Forest'].predict(user_data)\n",
        "\n",
        "# print predictions\n",
        "print(\"Will the user default the loan within 10 years?\")\n",
        "print(f\"Decision Tree Prediction: {'Yes' if prediction_dt[0] else 'No'}\")\n",
        "print(f\"AdaBoost Prediction: {'Yes' if prediction_ab[0] else 'No'}\")\n",
        "print(f\"Random Forest Prediction: {'Yes' if prediction_rf[0] else 'No'}\")"
      ],
      "metadata": {
        "id": "XU4m_n4Gteu6"
      },
      "execution_count": null,
      "outputs": []
    }
  ]
}